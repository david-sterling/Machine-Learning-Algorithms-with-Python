{
 "cells": [
  {
   "cell_type": "markdown",
   "metadata": {
    "collapsed": true
   },
   "source": [
    "# Image Classification\n",
    "In this project, you'll classify images from the [CIFAR-10 dataset](https://www.cs.toronto.edu/~kriz/cifar.html).  The dataset consists of airplanes, dogs, cats, and other objects. You'll preprocess the images, then train a convolutional neural network on all the samples. The images need to be normalized and the labels need to be one-hot encoded.  You'll get to apply what you learned and build a convolutional, max pooling, dropout, and fully connected layers.  At the end, you'll get to see your neural network's predictions on the sample images.\n",
    "## Get the Data\n",
    "Run the following cell to download the [CIFAR-10 dataset for python](https://www.cs.toronto.edu/~kriz/cifar-10-python.tar.gz)."
   ]
  },
  {
   "cell_type": "code",
   "execution_count": 280,
   "metadata": {
    "collapsed": false
   },
   "outputs": [
    {
     "name": "stderr",
     "output_type": "stream",
     "text": [
      "CIFAR-10 Dataset: 171MB [01:14, 2.28MB/s]                              \n"
     ]
    },
    {
     "name": "stdout",
     "output_type": "stream",
     "text": [
      "All files found!\n"
     ]
    }
   ],
   "source": [
    "\"\"\"\n",
    "DON'T MODIFY ANYTHING IN THIS CELL THAT IS BELOW THIS LINE\n",
    "\"\"\"\n",
    "from urllib.request import urlretrieve\n",
    "from os.path import isfile, isdir\n",
    "from tqdm import tqdm\n",
    "import problem_unittests as tests\n",
    "import tarfile\n",
    "\n",
    "cifar10_dataset_folder_path = 'cifar-10-batches-py'\n",
    "\n",
    "class DLProgress(tqdm):\n",
    "    last_block = 0\n",
    "\n",
    "    def hook(self, block_num=1, block_size=1, total_size=None):\n",
    "        self.total = total_size\n",
    "        self.update((block_num - self.last_block) * block_size)\n",
    "        self.last_block = block_num\n",
    "\n",
    "if not isfile('cifar-10-python.tar.gz'):\n",
    "    with DLProgress(unit='B', unit_scale=True, miniters=1, desc='CIFAR-10 Dataset') as pbar:\n",
    "        urlretrieve(\n",
    "            'https://www.cs.toronto.edu/~kriz/cifar-10-python.tar.gz',\n",
    "            'cifar-10-python.tar.gz',\n",
    "            pbar.hook)\n",
    "\n",
    "if not isdir(cifar10_dataset_folder_path):\n",
    "    with tarfile.open('cifar-10-python.tar.gz') as tar:\n",
    "        tar.extractall()\n",
    "        tar.close()\n",
    "\n",
    "\n",
    "tests.test_folder_path(cifar10_dataset_folder_path)"
   ]
  },
  {
   "cell_type": "markdown",
   "metadata": {},
   "source": [
    "## Explore the Data\n",
    "The dataset is broken into batches to prevent your machine from running out of memory.  The CIFAR-10 dataset consists of 5 batches, named `data_batch_1`, `data_batch_2`, etc.. Each batch contains the labels and images that are one of the following:\n",
    "* airplane\n",
    "* automobile\n",
    "* bird\n",
    "* cat\n",
    "* deer\n",
    "* dog\n",
    "* frog\n",
    "* horse\n",
    "* ship\n",
    "* truck\n",
    "\n",
    "Understanding a dataset is part of making predictions on the data.  Play around with the code cell below by changing the `batch_id` and `sample_id`. The `batch_id` is the id for a batch (1-5). The `sample_id` is the id for a image and label pair in the batch.\n",
    "\n",
    "Ask yourself \"What are all possible labels?\", \"What is the range of values for the image data?\", \"Are the labels in order or random?\".  Answers to questions like these will help you preprocess the data and end up with better predictions."
   ]
  },
  {
   "cell_type": "code",
   "execution_count": 281,
   "metadata": {
    "collapsed": false
   },
   "outputs": [
    {
     "name": "stdout",
     "output_type": "stream",
     "text": [
      "\n",
      "Stats of batch 5:\n",
      "Samples: 10000\n",
      "Label Counts: {0: 1014, 1: 1014, 2: 952, 3: 1016, 4: 997, 5: 1025, 6: 980, 7: 977, 8: 1003, 9: 1022}\n",
      "First 20 Labels: [1, 8, 5, 1, 5, 7, 4, 3, 8, 2, 7, 2, 0, 1, 5, 9, 6, 2, 0, 8]\n",
      "\n",
      "Example of Image 10:\n",
      "Image - Min Value: 16 Max Value: 227\n",
      "Image - Shape: (32, 32, 3)\n",
      "Label - Label Id: 7 Name: horse\n"
     ]
    },
    {
     "data": {
      "image/png": "[encoded data removed]",
      "text/plain": [
       "<matplotlib.figure.Figure at 0x116abcc50>"
      ]
     },
     "metadata": {
      "image/png": {
       "height": 250,
       "width": 253
      }
     },
     "output_type": "display_data"
    }
   ],
   "source": [
    "%matplotlib inline\n",
    "%config InlineBackend.figure_format = 'retina'\n",
    "\n",
    "import helper\n",
    "import numpy as np\n",
    "\n",
    "# Explore the dataset\n",
    "batch_id = 5\n",
    "sample_id = 10\n",
    "helper.display_stats(cifar10_dataset_folder_path, batch_id, sample_id)"
   ]
  },
  {
   "cell_type": "markdown",
   "metadata": {},
   "source": [
    "## Implement Preprocess Functions\n",
    "### Normalize\n",
    "In the cell below, implement the `normalize` function to take in image data, `x`, and return it as a normalized Numpy array. The values should be in the range of 0 to 1, inclusive.  The return object should be the same shape as `x`."
   ]
  },
  {
   "cell_type": "code",
   "execution_count": 282,
   "metadata": {
    "collapsed": false
   },
   "outputs": [
    {
     "name": "stdout",
     "output_type": "stream",
     "text": [
      "Tests Passed\n"
     ]
    }
   ],
   "source": [
    "def f(x):\n",
    "    return (255.-x)/255.\n",
    "#faster way to apply a function to all numpy elements.\n",
    "f = np.vectorize(f)\n",
    "\n",
    "def normalize(x):\n",
    "    \"\"\"\n",
    "    Normalize a list of sample image data in the range of 0 to 1\n",
    "    : x: List of image data.  The image shape is (32, 32, 3)\n",
    "    : return: Numpy array of normalize data\n",
    "    \"\"\"\n",
    "    # TODO: Implement Function    \n",
    "    x = f(x)\n",
    "    return x\n",
    "    \n",
    "\"\"\"\n",
    "DON'T MODIFY ANYTHING IN THIS CELL THAT IS BELOW THIS LINE\n",
    "\"\"\"\n",
    "tests.test_normalize(normalize)"
   ]
  },
  {
   "cell_type": "markdown",
   "metadata": {},
   "source": [
    "### One-hot encode\n",
    "Just like the previous code cell, you'll be implementing a function for preprocessing.  This time, you'll implement the `one_hot_encode` function. The input, `x`, are a list of labels.  Implement the function to return the list of labels as One-Hot encoded Numpy array.  The possible values for labels are 0 to 9. The one-hot encoding function should return the same encoding for each value between each call to `one_hot_encode`.  Make sure to save the map of encodings outside the function.\n",
    "\n",
    "**Hint:**\n",
    "\n",
    "Look into LabelBinarizer in the preprocessing module of sklearn."
   ]
  },
  {
   "cell_type": "code",
   "execution_count": 283,
   "metadata": {
    "collapsed": false
   },
   "outputs": [
    {
     "name": "stdout",
     "output_type": "stream",
     "text": [
      "Tests Passed\n"
     ]
    }
   ],
   "source": [
    "from sklearn import preprocessing\n",
    "lb = preprocessing.LabelBinarizer()\n",
    "lb.fit([0,1,2,3,4,5,6,7,8,9])\n",
    "def one_hot_encode(x):\n",
    "    \"\"\"\n",
    "    One hot encode a list of sample labels. Return a one-hot encoded vector for each label.\n",
    "    : x: List of sample Labels\n",
    "    : return: Numpy array of one-hot encoded labels\n",
    "    \"\"\"\n",
    "    # TODO: Implement Function\n",
    "    return lb.transform(x)\n",
    "\n",
    "\n",
    "\"\"\"\n",
    "DON'T MODIFY ANYTHING IN THIS CELL THAT IS BELOW THIS LINE\n",
    "\"\"\"\n",
    "tests.test_one_hot_encode(one_hot_encode)"
   ]
  },
  {
   "cell_type": "markdown",
   "metadata": {},
   "source": [
    "### Randomize Data\n",
    "As you saw from exploring the data above, the order of the samples are randomized.  It doesn't hurt to randomize it again, but you don't need to for this dataset."
   ]
  },
  {
   "cell_type": "markdown",
   "metadata": {},
   "source": [
    "## Preprocess all the data and save it\n",
    "Running the code cell below will preprocess all the CIFAR-10 data and save it to file. The code below also uses 10% of the training data for validation."
   ]
  },
  {
   "cell_type": "code",
   "execution_count": 284,
   "metadata": {
    "collapsed": false
   },
   "outputs": [],
   "source": [
    "\"\"\"\n",
    "DON'T MODIFY ANYTHING IN THIS CELL\n",
    "\"\"\"\n",
    "# Preprocess Training, Validation, and Testing Data\n",
    "helper.preprocess_and_save_data(cifar10_dataset_folder_path, normalize, one_hot_encode)"
   ]
  },
  {
   "cell_type": "markdown",
   "metadata": {},
   "source": [
    "# Check Point\n",
    "This is your first checkpoint.  If you ever decide to come back to this notebook or have to restart the notebook, you can start from here.  The preprocessed data has been saved to disk."
   ]
  },
  {
   "cell_type": "code",
   "execution_count": 285,
   "metadata": {
    "collapsed": false
   },
   "outputs": [],
   "source": [
    "\"\"\"\n",
    "DON'T MODIFY ANYTHING IN THIS CELL\n",
    "\"\"\"\n",
    "import pickle\n",
    "import problem_unittests as tests\n",
    "import helper\n",
    "\n",
    "# Load the Preprocessed Validation data\n",
    "valid_features, valid_labels = pickle.load(open('preprocess_validation.p', mode='rb'))"
   ]
  },
  {
   "cell_type": "markdown",
   "metadata": {},
   "source": [
    "## Build the network\n",
    "For the neural network, you'll build each layer into a function.  Most of the code you've seen has been outside of functions. To test your code more thoroughly, we require that you put each layer in a function.  This allows us to give you better feedback and test for simple mistakes using our unittests before you submit your project.\n",
    "\n",
    ">**Note:** If you're finding it hard to dedicate enough time for this course each week, we've provided a small shortcut to this part of the project. In the next couple of problems, you'll have the option to use classes from the [TensorFlow Layers](https://www.tensorflow.org/api_docs/python/tf/layers) or [TensorFlow Layers (contrib)](https://www.tensorflow.org/api_guides/python/contrib.layers) packages to build each layer, except the layers you build in the \"Convolutional and Max Pooling Layer\" section.  TF Layers is similar to Keras's and TFLearn's abstraction to layers, so it's easy to pickup.\n",
    "\n",
    ">However, if you would like to get the most out of this course, try to solve all the problems _without_ using anything from the TF Layers packages. You **can** still use classes from other packages that happen to have the same name as ones you find in TF Layers! For example, instead of using the TF Layers version of the `conv2d` class, [tf.layers.conv2d](https://www.tensorflow.org/api_docs/python/tf/layers/conv2d), you would want to use the TF Neural Network version of `conv2d`, [tf.nn.conv2d](https://www.tensorflow.org/api_docs/python/tf/nn/conv2d). \n",
    "\n",
    "Let's begin!\n",
    "\n",
    "### Input\n",
    "The neural network needs to read the image data, one-hot encoded labels, and dropout keep probability. Implement the following functions\n",
    "* Implement `neural_net_image_input`\n",
    " * Return a [TF Placeholder](https://www.tensorflow.org/api_docs/python/tf/placeholder)\n",
    " * Set the shape using `image_shape` with batch size set to `None`.\n",
    " * Name the TensorFlow placeholder \"x\" using the TensorFlow `name` parameter in the [TF Placeholder](https://www.tensorflow.org/api_docs/python/tf/placeholder).\n",
    "* Implement `neural_net_label_input`\n",
    " * Return a [TF Placeholder](https://www.tensorflow.org/api_docs/python/tf/placeholder)\n",
    " * Set the shape using `n_classes` with batch size set to `None`.\n",
    " * Name the TensorFlow placeholder \"y\" using the TensorFlow `name` parameter in the [TF Placeholder](https://www.tensorflow.org/api_docs/python/tf/placeholder).\n",
    "* Implement `neural_net_keep_prob_input`\n",
    " * Return a [TF Placeholder](https://www.tensorflow.org/api_docs/python/tf/placeholder) for dropout keep probability.\n",
    " * Name the TensorFlow placeholder \"keep_prob\" using the TensorFlow `name` parameter in the [TF Placeholder](https://www.tensorflow.org/api_docs/python/tf/placeholder).\n",
    "\n",
    "These names will be used at the end of the project to load your saved model.\n",
    "\n",
    "Note: `None` for shapes in TensorFlow allow for a dynamic size."
   ]
  },
  {
   "cell_type": "code",
   "execution_count": 286,
   "metadata": {
    "collapsed": false
   },
   "outputs": [
    {
     "name": "stdout",
     "output_type": "stream",
     "text": [
      "Image Input Tests Passed.\n",
      "Label Input Tests Passed.\n",
      "Keep Prob Tests Passed.\n"
     ]
    }
   ],
   "source": [
    "import tensorflow as tf\n",
    "\n",
    "def neural_net_image_input(image_shape):\n",
    "    \"\"\"\n",
    "    Return a Tensor for a batch of image input\n",
    "    : image_shape: Shape of the images\n",
    "    : return: Tensor for image input.\n",
    "    \"\"\"\n",
    "    # TODO: Implement Function\n",
    "    a = list(image_shape)\n",
    "    a = [None] + a\n",
    "    return tf.placeholder(tf.float32,shape = a, name='x')\n",
    "\n",
    "\n",
    "def neural_net_label_input(n_classes):\n",
    "    \"\"\"\n",
    "    Return a Tensor for a batch of label input\n",
    "    : n_classes: Number of classes\n",
    "    : return: Tensor for label input.\n",
    "    \"\"\"\n",
    "    # TODO: Implement Function\n",
    "    a=[]\n",
    "    a.append(None)\n",
    "    a.append(n_classes)\n",
    "    return tf.placeholder(tf.float32,shape = a , name='y')\n",
    "\n",
    "\n",
    "def neural_net_keep_prob_input():\n",
    "    \"\"\"\n",
    "    Return a Tensor for keep probability\n",
    "    : return: Tensor for keep probability.\n",
    "    \"\"\"\n",
    "    # TODO: Implement Function\n",
    "    return tf.placeholder(tf.float32, name='keep_prob')\n",
    "\n",
    "\n",
    "\"\"\"\n",
    "DON'T MODIFY ANYTHING IN THIS CELL THAT IS BELOW THIS LINE\n",
    "\"\"\"\n",
    "tf.reset_default_graph()\n",
    "tests.test_nn_image_inputs(neural_net_image_input)\n",
    "tests.test_nn_label_inputs(neural_net_label_input)\n",
    "tests.test_nn_keep_prob_inputs(neural_net_keep_prob_input)"
   ]
  },
  {
   "cell_type": "markdown",
   "metadata": {},
   "source": [
    "### Convolution and Max Pooling Layer\n",
    "Convolution layers have a lot of success with images. For this code cell, you should implement the function `conv2d_maxpool` to apply convolution then max pooling:\n",
    "* Create the weight and bias using `conv_ksize`, `conv_num_outputs` and the shape of `x_tensor`.\n",
    "* Apply a convolution to `x_tensor` using weight and `conv_strides`.\n",
    " * We recommend you use same padding, but you're welcome to use any padding.\n",
    "* Add bias\n",
    "* Add a nonlinear activation to the convolution.\n",
    "* Apply Max Pooling using `pool_ksize` and `pool_strides`.\n",
    " * We recommend you use same padding, but you're welcome to use any padding.\n",
    "\n",
    "**Note:** You **can't** use [TensorFlow Layers](https://www.tensorflow.org/api_docs/python/tf/layers) or [TensorFlow Layers (contrib)](https://www.tensorflow.org/api_guides/python/contrib.layers) for **this** layer, but you can still use TensorFlow's [Neural Network](https://www.tensorflow.org/api_docs/python/tf/nn) package. You may still use the shortcut option for all the **other** layers.\n",
    "\n",
    "** Hint: **\n",
    "\n",
    "When unpacking values as an argument in Python, look into the [unpacking](https://docs.python.org/3/tutorial/controlflow.html#unpacking-argument-lists) operator. "
   ]
  },
  {
   "cell_type": "code",
   "execution_count": 287,
   "metadata": {
    "collapsed": false
   },
   "outputs": [
    {
     "name": "stdout",
     "output_type": "stream",
     "text": [
      "(?, 32, 32, 5) (2, 2) 10\n",
      "Tests Passed\n"
     ]
    }
   ],
   "source": [
    "def conv2d_maxpool(x_tensor, conv_num_outputs, conv_ksize, conv_strides, pool_ksize, pool_strides):\n",
    "    \"\"\"\n",
    "    Apply convolution then max pooling to x_tensor\n",
    "    :param x_tensor: TensorFlow Tensor\n",
    "    :param conv_num_outputs: Number of outputs for the convolutional layer\n",
    "    :param conv_ksize: kernal size 2-D Tuple for the convolutional layer\n",
    "    :param conv_strides: Stride 2-D Tuple for convolution\n",
    "    :param pool_ksize: kernal size 2-D Tuple for pool\n",
    "    :param pool_strides: Stride 2-D Tuple for pool\n",
    "    : return: A tensor that represents convolution and max pooling of x_tensor\n",
    "    \"\"\"\n",
    "    # TODO: Implement Function\n",
    "    print(x_tensor.shape,conv_ksize,conv_num_outputs)\n",
    "    \n",
    "    weight_shape = list(conv_ksize)\n",
    "    weight_shape.append( int(x_tensor.shape[-1]) )\n",
    "    weight_shape.append(conv_num_outputs)\n",
    "\n",
    "    weight = tf.Variable(tf.truncated_normal( weight_shape,mean=0.0, stddev=0.1 ))\n",
    "    bias   = tf.Variable(tf.zeros( conv_num_outputs ) )\n",
    "\n",
    "    conv_layer = tf.nn.conv2d( x_tensor, weight , strides = [1,*conv_strides,1], padding='SAME')\n",
    "    conv_layer = tf.nn.bias_add(conv_layer, bias)\n",
    "    conv_layer = tf.nn.tanh(conv_layer)\n",
    "    \n",
    "    conv_layer = tf.nn.max_pool( conv_layer, ksize = [1,*pool_ksize,1], strides = [1,*pool_strides,1], padding='SAME')\n",
    "    return conv_layer\n",
    "\n",
    "\n",
    "\"\"\"\n",
    "DON'T MODIFY ANYTHING IN THIS CELL THAT IS BELOW THIS LINE\n",
    "\"\"\"\n",
    "tests.test_con_pool(conv2d_maxpool)"
   ]
  },
  {
   "cell_type": "markdown",
   "metadata": {},
   "source": [
    "### Flatten Layer\n",
    "Implement the `flatten` function to change the dimension of `x_tensor` from a 4-D tensor to a 2-D tensor.  The output should be the shape (*Batch Size*, *Flattened Image Size*). Shortcut option: you can use classes from the [TensorFlow Layers](https://www.tensorflow.org/api_docs/python/tf/layers) or [TensorFlow Layers (contrib)](https://www.tensorflow.org/api_guides/python/contrib.layers) packages for this layer. For more of a challenge, only use other TensorFlow packages."
   ]
  },
  {
   "cell_type": "code",
   "execution_count": 288,
   "metadata": {
    "collapsed": false
   },
   "outputs": [
    {
     "name": "stdout",
     "output_type": "stream",
     "text": [
      "Tests Passed\n"
     ]
    }
   ],
   "source": [
    "\n",
    "def flatten(x_tensor):\n",
    "    \"\"\"\n",
    "    Flatten x_tensor to (Batch Size, Flattened Image Size)\n",
    "    : x_tensor: A tensor of size (Batch Size, ...), where ... are the image dimensions.\n",
    "    : return: A tensor of size (Batch Size, Flattened Image Size).\n",
    "    \"\"\"\n",
    "    # TODO: Implement Function\n",
    "    a = x_tensor.get_shape().as_list()\n",
    "    ret = tf.reshape(x_tensor,[-1,np.prod(a[1:])])\n",
    "    return ret\n",
    "\n",
    "\"\"\"\n",
    "DON'T MODIFY ANYTHING IN THIS CELL THAT IS BELOW THIS LINE\n",
    "\"\"\"\n",
    "tests.test_flatten(flatten)"
   ]
  },
  {
   "cell_type": "markdown",
   "metadata": {},
   "source": [
    "### Fully-Connected Layer\n",
    "Implement the `fully_conn` function to apply a fully connected layer to `x_tensor` with the shape (*Batch Size*, *num_outputs*). Shortcut option: you can use classes from the [TensorFlow Layers](https://www.tensorflow.org/api_docs/python/tf/layers) or [TensorFlow Layers (contrib)](https://www.tensorflow.org/api_guides/python/contrib.layers) packages for this layer. For more of a challenge, only use other TensorFlow packages."
   ]
  },
  {
   "cell_type": "code",
   "execution_count": 289,
   "metadata": {
    "collapsed": false
   },
   "outputs": [
    {
     "name": "stdout",
     "output_type": "stream",
     "text": [
      "Tests Passed\n"
     ]
    }
   ],
   "source": [
    "def fully_conn(x_tensor, num_outputs):\n",
    "    \"\"\"\n",
    "    Apply a fully connected layer to x_tensor using weight and bias\n",
    "    : x_tensor: A 2-D tensor where the first dimension is batch size.\n",
    "    : num_outputs: The number of output that the new tensor should be.\n",
    "    : return: A 2-D tensor where the second dimension is num_outputs.\n",
    "    \"\"\"\n",
    "    # TODO: Implement Function\n",
    "#     fc1 = tf.reshape(conv2, [-1, weights['wd1'].get_shape().as_list()[0]])\n",
    "#     fc1 = tf.add(tf.matmul(fc1, weights['wd1']), biases['bd1'])\n",
    "#     fc1 = tf.nn.relu(fc1)\n",
    "#     fc1 = tf.nn.dropout(fc1, dropout)\n",
    "\n",
    "#     print(x_tensor)\n",
    "    weights = tf.Variable(tf.truncated_normal([x_tensor.get_shape().as_list()[1], num_outputs],mean=0.0,stddev=0.1))\n",
    "    biases = tf.Variable(tf.zeros(num_outputs)) # Seems like a hack to me\n",
    "    fc1 = tf.matmul(x_tensor, weights) + biases\n",
    "    fc1 = tf.nn.relu(fc1)\n",
    "    return fc1\n",
    "\n",
    "\n",
    "\"\"\"\n",
    "DON'T MODIFY ANYTHING IN THIS CELL THAT IS BELOW THIS LINE\n",
    "\"\"\"\n",
    "tests.test_fully_conn(fully_conn)"
   ]
  },
  {
   "cell_type": "markdown",
   "metadata": {},
   "source": [
    "### Output Layer\n",
    "Implement the `output` function to apply a fully connected layer to `x_tensor` with the shape (*Batch Size*, *num_outputs*). Shortcut option: you can use classes from the [TensorFlow Layers](https://www.tensorflow.org/api_docs/python/tf/layers) or [TensorFlow Layers (contrib)](https://www.tensorflow.org/api_guides/python/contrib.layers) packages for this layer. For more of a challenge, only use other TensorFlow packages.\n",
    "\n",
    "**Note:** Activation, softmax, or cross entropy should **not** be applied to this."
   ]
  },
  {
   "cell_type": "code",
   "execution_count": 335,
   "metadata": {
    "collapsed": false
   },
   "outputs": [
    {
     "name": "stdout",
     "output_type": "stream",
     "text": [
      "Tests Passed\n"
     ]
    }
   ],
   "source": [
    "def output(x_tensor, num_outputs):\n",
    "    \"\"\"\n",
    "    Apply a output layer to x_tensor using weight and bias\n",
    "    : x_tensor: A 2-D tensor where the first dimension is batch size.\n",
    "    : num_outputs: The number of output that the new tensor should be.\n",
    "    : return: A 2-D tensor where the second dimension is num_outputs.\n",
    "    \"\"\"\n",
    "    # TODO: Implement Function\n",
    "    weights = tf.Variable(tf.truncated_normal([x_tensor.get_shape().as_list()[1], num_outputs],mean=0.0,stddev=1.0))\n",
    "    biases = tf.Variable(tf.zeros(num_outputs)) # Seems like a hack to me\n",
    "    conn_output = tf.matmul(x_tensor, weights) + biases\n",
    "    return conn_output\n",
    "\n",
    "\n",
    "\"\"\"\n",
    "DON'T MODIFY ANYTHING IN THIS CELL THAT IS BELOW THIS LINE\n",
    "\"\"\"\n",
    "tests.test_output(output)"
   ]
  },
  {
   "cell_type": "markdown",
   "metadata": {},
   "source": [
    "### Create Convolutional Model\n",
    "Implement the function `conv_net` to create a convolutional neural network model. The function takes in a batch of images, `x`, and outputs logits.  Use the layers you created above to create this model:\n",
    "\n",
    "* Apply 1, 2, or 3 Convolution and Max Pool layers\n",
    "* Apply a Flatten Layer\n",
    "* Apply 1, 2, or 3 Fully Connected Layers\n",
    "* Apply an Output Layer\n",
    "* Return the output\n",
    "* Apply [TensorFlow's Dropout](https://www.tensorflow.org/api_docs/python/tf/nn/dropout) to one or more layers in the model using `keep_prob`. "
   ]
  },
  {
   "cell_type": "code",
   "execution_count": 365,
   "metadata": {
    "collapsed": false
   },
   "outputs": [
    {
     "name": "stdout",
     "output_type": "stream",
     "text": [
      "(?, 32, 32, 3) [3, 3] 64\n",
      "(?, 16, 16, 64) [3, 3] 128\n",
      "(?, 8, 8, 128) [3, 3] 256\n",
      "(?, 32, 32, 3) [3, 3] 64\n",
      "(?, 16, 16, 64) [3, 3] 128\n",
      "(?, 8, 8, 128) [3, 3] 256\n",
      "Neural Network Built!\n"
     ]
    }
   ],
   "source": [
    "def conv_net(x, keep_prob):\n",
    "    \"\"\"\n",
    "    Create a convolutional neural network model\n",
    "    : x: Placeholder tensor that holds image data.\n",
    "    : keep_prob: Placeholder tensor that hold dropout keep probability.\n",
    "    : return: Tensor that represents logits\n",
    "    \"\"\"\n",
    "    # TODO: Apply 1, 2, or 3 Convolution and Max Pool layers\n",
    "    #    Play around with different number of outputs, kernel size and stride\n",
    "    # Function Definition from Above:\n",
    "    #    conv2d_maxpool(x_tensor, conv_num_outputs, conv_ksize, conv_strides, pool_ksize, pool_strides)\n",
    "\n",
    "    cv1 = conv2d_maxpool(x, 64, [3,3],[1,1],[2,2],[2,2] )\n",
    "    cv1 = conv2d_maxpool(cv1, 128, [3,3],[1,1],[2,2],[2,2] )\n",
    "    cv1 = conv2d_maxpool(cv1, 256, [3,3],[1,1],[2,2],[2,2] )\n",
    "    \n",
    "    # TODO: Apply a Flatten Layer\n",
    "    # Function Definition from Above:\n",
    "    #   flatten(x_tensor)\n",
    "    cv1 = flatten(cv1)\n",
    "\n",
    "    # TODO: Apply 1, 2, or 3 Fully Connected Layers\n",
    "    #    Play around with different number of outputs\n",
    "    # Function Definition from Above:\n",
    "    #   fully_conn(x_tensor, num_outputs)\n",
    "    num_outputs = 512\n",
    "    \n",
    "    cv1 = fully_conn(cv1,num_outputs)\n",
    "    cv1 = tf.nn.dropout(cv1,keep_prob)\n",
    "    cv1 = fully_conn(cv1,256)\n",
    "    cv1 = fully_conn(cv1,128)\n",
    "    \n",
    "    # TODO: Apply an Output Layer\n",
    "    #    Set this to the number of classes\n",
    "    # Function Definition from Above:\n",
    "    #   output(x_tensor, num_outputs)\n",
    "    cv1 = output(cv1, 10)\n",
    "    \n",
    "    # TODO: return output\n",
    "    return cv1\n",
    "\n",
    "\n",
    "\"\"\"\n",
    "DON'T MODIFY ANYTHING IN THIS CELL THAT IS BELOW THIS LINE\n",
    "\"\"\"\n",
    "\n",
    "##############################\n",
    "## Build the Neural Network ##\n",
    "##############################\n",
    "\n",
    "# Remove previous weights, bias, inputs, etc..\n",
    "tf.reset_default_graph()\n",
    "\n",
    "# Inputs\n",
    "x = neural_net_image_input((32, 32, 3))\n",
    "y = neural_net_label_input(10)\n",
    "keep_prob = neural_net_keep_prob_input()\n",
    "\n",
    "# Model\n",
    "logits = conv_net(x, keep_prob)\n",
    "\n",
    "# Name logits Tensor, so that is can be loaded from disk after training\n",
    "logits = tf.identity(logits, name='logits')\n",
    "\n",
    "# Loss and Optimizer\n",
    "cost = tf.reduce_mean(tf.nn.softmax_cross_entropy_with_logits(logits=logits, labels=y))\n",
    "optimizer = tf.train.AdamOptimizer().minimize(cost)\n",
    "\n",
    "# Accuracy\n",
    "correct_pred = tf.equal(tf.argmax(logits, 1), tf.argmax(y, 1))\n",
    "accuracy = tf.reduce_mean(tf.cast(correct_pred, tf.float32), name='accuracy')\n",
    "\n",
    "tests.test_conv_net(conv_net)"
   ]
  },
  {
   "cell_type": "markdown",
   "metadata": {},
   "source": [
    "## Train the Neural Network\n",
    "### Single Optimization\n",
    "Implement the function `train_neural_network` to do a single optimization.  The optimization should use `optimizer` to optimize in `session` with a `feed_dict` of the following:\n",
    "* `x` for image input\n",
    "* `y` for labels\n",
    "* `keep_prob` for keep probability for dropout\n",
    "\n",
    "This function will be called for each batch, so `tf.global_variables_initializer()` has already been called.\n",
    "\n",
    "Note: Nothing needs to be returned. This function is only optimizing the neural network."
   ]
  },
  {
   "cell_type": "code",
   "execution_count": 366,
   "metadata": {
    "collapsed": false
   },
   "outputs": [
    {
     "name": "stdout",
     "output_type": "stream",
     "text": [
      "Tests Passed\n"
     ]
    }
   ],
   "source": [
    "def train_neural_network(session, optimizer, keep_probability, feature_batch, label_batch):\n",
    "    \"\"\"\n",
    "    Optimize the session on a batch of images and labels\n",
    "    : session: Current TensorFlow session\n",
    "    : optimizer: TensorFlow optimizer function\n",
    "    : keep_probability: keep probability\n",
    "    : feature_batch: Batch of Numpy image data\n",
    "    : label_batch: Batch of Numpy label data\n",
    "    \"\"\"\n",
    "    # TODO: Implement Function\n",
    "    session.run(optimizer, feed_dict={\n",
    "                x: feature_batch,\n",
    "                y: label_batch,\n",
    "                keep_prob: keep_probability})\n",
    "\n",
    "\n",
    "\"\"\"\n",
    "DON'T MODIFY ANYTHING IN THIS CELL THAT IS BELOW THIS LINE\n",
    "\"\"\"\n",
    "tests.test_train_nn(train_neural_network)"
   ]
  },
  {
   "cell_type": "markdown",
   "metadata": {},
   "source": [
    "### Show Stats\n",
    "Implement the function `print_stats` to print loss and validation accuracy.  Use the global variables `valid_features` and `valid_labels` to calculate validation accuracy.  Use a keep probability of `1.0` to calculate the loss and validation accuracy."
   ]
  },
  {
   "cell_type": "code",
   "execution_count": 367,
   "metadata": {
    "collapsed": false
   },
   "outputs": [],
   "source": [
    "def print_stats(session, feature_batch, label_batch, cost, accuracy):\n",
    "    \"\"\"\n",
    "    Print information about loss and validation accuracy\n",
    "    : session: Current TensorFlow session\n",
    "    : feature_batch: Batch of Numpy image data\n",
    "    : label_batch: Batch of Numpy label data\n",
    "    : cost: TensorFlow cost function\n",
    "    : accuracy: TensorFlow accuracy function\n",
    "    \"\"\"\n",
    "    # TODO: Implement Function\n",
    "    loss = session.run(cost, feed_dict={\n",
    "                    x: feature_batch,\n",
    "                    y: label_batch,\n",
    "                    keep_prob: 1.})\n",
    "    valid_acc = session.run(accuracy, feed_dict={\n",
    "                    x: valid_features,\n",
    "                    y: valid_labels,\n",
    "                    keep_prob: 1.})\n",
    "    print (\"Loss = %s, Accuracy = %s\" % (loss,valid_acc))\n",
    "    "
   ]
  },
  {
   "cell_type": "markdown",
   "metadata": {},
   "source": [
    "### Hyperparameters\n",
    "Tune the following parameters:\n",
    "* Set `epochs` to the number of iterations until the network stops learning or start overfitting\n",
    "* Set `batch_size` to the highest number that your machine has memory for.  Most people set them to common sizes of memory:\n",
    " * 64\n",
    " * 128\n",
    " * 256\n",
    " * ...\n",
    "* Set `keep_probability` to the probability of keeping a node using dropout"
   ]
  },
  {
   "cell_type": "code",
   "execution_count": 370,
   "metadata": {
    "collapsed": true
   },
   "outputs": [],
   "source": [
    "# TODO: Tune Parameters\n",
    "epochs = 50\n",
    "batch_size = 128\n",
    "keep_probability = .8"
   ]
  },
  {
   "cell_type": "markdown",
   "metadata": {},
   "source": [
    "### Train on a Single CIFAR-10 Batch\n",
    "Instead of training the neural network on all the CIFAR-10 batches of data, let's use a single batch. This should save time while you iterate on the model to get a better accuracy.  Once the final validation accuracy is 50% or greater, run the model on all the data in the next section."
   ]
  },
  {
   "cell_type": "code",
   "execution_count": 371,
   "metadata": {
    "collapsed": false
   },
   "outputs": [
    {
     "name": "stdout",
     "output_type": "stream",
     "text": [
      "Checking the Training on a Single Batch...\n",
      "Epoch  1, CIFAR-10 Batch 1:  Loss = 2.30727, Accuracy = 0.199\n",
      "Epoch  2, CIFAR-10 Batch 1:  Loss = 2.13758, Accuracy = 0.2436\n",
      "Epoch  3, CIFAR-10 Batch 1:  Loss = 1.97081, Accuracy = 0.274\n",
      "Epoch  4, CIFAR-10 Batch 1:  Loss = 1.93457, Accuracy = 0.2772\n",
      "Epoch  5, CIFAR-10 Batch 1:  Loss = 1.9209, Accuracy = 0.2644\n",
      "Epoch  6, CIFAR-10 Batch 1:  Loss = 1.88494, Accuracy = 0.2782\n",
      "Epoch  7, CIFAR-10 Batch 1:  Loss = 1.75682, Accuracy = 0.313\n",
      "Epoch  8, CIFAR-10 Batch 1:  Loss = 1.77424, Accuracy = 0.2516\n",
      "Epoch  9, CIFAR-10 Batch 1:  Loss = 1.84424, Accuracy = 0.2846\n",
      "Epoch 10, CIFAR-10 Batch 1:  Loss = 1.75513, Accuracy = 0.2752\n",
      "Epoch 11, CIFAR-10 Batch 1:  Loss = 1.7981, Accuracy = 0.2814\n",
      "Epoch 12, CIFAR-10 Batch 1:  Loss = 1.5683, Accuracy = 0.3192\n",
      "Epoch 13, CIFAR-10 Batch 1:  Loss = 1.37879, Accuracy = 0.3654\n",
      "Epoch 14, CIFAR-10 Batch 1:  Loss = 1.42721, Accuracy = 0.3682\n",
      "Epoch 15, CIFAR-10 Batch 1:  Loss = 1.38, Accuracy = 0.3318\n",
      "Epoch 16, CIFAR-10 Batch 1:  Loss = 1.23058, Accuracy = 0.381\n",
      "Epoch 17, CIFAR-10 Batch 1:  Loss = 1.1623, Accuracy = 0.4198\n",
      "Epoch 18, CIFAR-10 Batch 1:  Loss = 1.20354, Accuracy = 0.3974\n",
      "Epoch 19, CIFAR-10 Batch 1:  Loss = 1.21606, Accuracy = 0.4076\n",
      "Epoch 20, CIFAR-10 Batch 1:  Loss = 1.30362, Accuracy = 0.359\n",
      "Epoch 21, CIFAR-10 Batch 1:  Loss = 1.14657, Accuracy = 0.4124\n",
      "Epoch 22, CIFAR-10 Batch 1:  Loss = 1.11524, Accuracy = 0.4092\n",
      "Epoch 23, CIFAR-10 Batch 1:  Loss = 0.974327, Accuracy = 0.424\n",
      "Epoch 24, CIFAR-10 Batch 1:  Loss = 0.933611, Accuracy = 0.4298\n",
      "Epoch 25, CIFAR-10 Batch 1:  Loss = 0.909158, Accuracy = 0.474\n",
      "Epoch 26, CIFAR-10 Batch 1:  Loss = 0.865065, Accuracy = 0.4916\n",
      "Epoch 27, CIFAR-10 Batch 1:  Loss = 0.677762, Accuracy = 0.4746\n",
      "Epoch 28, CIFAR-10 Batch 1:  Loss = 0.705467, Accuracy = 0.4854\n",
      "Epoch 29, CIFAR-10 Batch 1:  Loss = 0.673042, Accuracy = 0.4758\n",
      "Epoch 30, CIFAR-10 Batch 1:  Loss = 0.446858, Accuracy = 0.4928\n",
      "Epoch 31, CIFAR-10 Batch 1:  Loss = 0.50977, Accuracy = 0.4976\n",
      "Epoch 32, CIFAR-10 Batch 1:  Loss = 0.380741, Accuracy = 0.5122\n",
      "Epoch 33, CIFAR-10 Batch 1:  Loss = 0.370718, Accuracy = 0.5146\n",
      "Epoch 34, CIFAR-10 Batch 1:  Loss = 0.386209, Accuracy = 0.5096\n",
      "Epoch 35, CIFAR-10 Batch 1:  Loss = 0.349449, Accuracy = 0.5208\n",
      "Epoch 36, CIFAR-10 Batch 1:  Loss = 0.302879, Accuracy = 0.518\n",
      "Epoch 37, CIFAR-10 Batch 1:  Loss = 0.273698, Accuracy = 0.5274\n",
      "Epoch 38, CIFAR-10 Batch 1:  Loss = 0.229109, Accuracy = 0.5272\n",
      "Epoch 39, CIFAR-10 Batch 1:  Loss = 0.183749, Accuracy = 0.5098\n",
      "Epoch 40, CIFAR-10 Batch 1:  Loss = 0.233462, Accuracy = 0.5268\n",
      "Epoch 41, CIFAR-10 Batch 1:  Loss = 0.15441, Accuracy = 0.535\n",
      "Epoch 42, CIFAR-10 Batch 1:  Loss = 0.241277, Accuracy = 0.5322\n",
      "Epoch 43, CIFAR-10 Batch 1:  Loss = 0.191645, Accuracy = 0.5204\n",
      "Epoch 44, CIFAR-10 Batch 1:  Loss = 0.160208, Accuracy = 0.506\n",
      "Epoch 45, CIFAR-10 Batch 1:  Loss = 0.137965, Accuracy = 0.5058\n",
      "Epoch 46, CIFAR-10 Batch 1:  Loss = 0.0832768, Accuracy = 0.5388\n",
      "Epoch 47, CIFAR-10 Batch 1:  Loss = 0.109119, Accuracy = 0.5516\n",
      "Epoch 48, CIFAR-10 Batch 1:  Loss = 0.0891458, Accuracy = 0.547\n",
      "Epoch 49, CIFAR-10 Batch 1:  Loss = 0.0735315, Accuracy = 0.5188\n",
      "Epoch 50, CIFAR-10 Batch 1:  Loss = 0.0591237, Accuracy = 0.5332\n"
     ]
    }
   ],
   "source": [
    "\"\"\"\n",
    "DON'T MODIFY ANYTHING IN THIS CELL\n",
    "\"\"\"\n",
    "print('Checking the Training on a Single Batch...')\n",
    "with tf.Session() as sess:\n",
    "    # Initializing the variables\n",
    "    sess.run(tf.global_variables_initializer())\n",
    "    \n",
    "    # Training cycle\n",
    "    for epoch in range(epochs):\n",
    "        batch_i = 1\n",
    "        for batch_features, batch_labels in helper.load_preprocess_training_batch(batch_i, batch_size):\n",
    "            train_neural_network(sess, optimizer, keep_probability, batch_features, batch_labels)\n",
    "        print('Epoch {:>2}, CIFAR-10 Batch {}:  '.format(epoch + 1, batch_i), end='')\n",
    "        print_stats(sess, batch_features, batch_labels, cost, accuracy)"
   ]
  },
  {
   "cell_type": "markdown",
   "metadata": {},
   "source": [
    "### Fully Train the Model\n",
    "Now that you got a good accuracy with a single CIFAR-10 batch, try it with all five batches."
   ]
  },
  {
   "cell_type": "code",
   "execution_count": 372,
   "metadata": {
    "collapsed": false
   },
   "outputs": [
    {
     "name": "stdout",
     "output_type": "stream",
     "text": [
      "Training...\n",
      "Epoch  1, CIFAR-10 Batch 1:  Loss = 2.20731, Accuracy = 0.1958\n",
      "Epoch  1, CIFAR-10 Batch 2:  Loss = 2.11038, Accuracy = 0.2434\n",
      "Epoch  1, CIFAR-10 Batch 3:  Loss = 1.96274, Accuracy = 0.2514\n",
      "Epoch  1, CIFAR-10 Batch 4:  Loss = 1.8031, Accuracy = 0.2754\n",
      "Epoch  1, CIFAR-10 Batch 5:  Loss = 1.82584, Accuracy = 0.293\n",
      "Epoch  2, CIFAR-10 Batch 1:  Loss = 2.01766, Accuracy = 0.323\n",
      "Epoch  2, CIFAR-10 Batch 2:  Loss = 1.78399, Accuracy = 0.334\n",
      "Epoch  2, CIFAR-10 Batch 3:  Loss = 1.70159, Accuracy = 0.2872\n",
      "Epoch  2, CIFAR-10 Batch 4:  Loss = 1.62288, Accuracy = 0.328\n",
      "Epoch  2, CIFAR-10 Batch 5:  Loss = 1.66367, Accuracy = 0.3388\n",
      "Epoch  3, CIFAR-10 Batch 1:  Loss = 1.79218, Accuracy = 0.3314\n",
      "Epoch  3, CIFAR-10 Batch 2:  Loss = 1.79829, Accuracy = 0.316\n",
      "Epoch  3, CIFAR-10 Batch 3:  Loss = 1.83225, Accuracy = 0.2488\n",
      "Epoch  3, CIFAR-10 Batch 4:  Loss = 1.67421, Accuracy = 0.3032\n",
      "Epoch  3, CIFAR-10 Batch 5:  Loss = 1.83895, Accuracy = 0.2748\n",
      "Epoch  4, CIFAR-10 Batch 1:  Loss = 1.78641, Accuracy = 0.3458\n",
      "Epoch  4, CIFAR-10 Batch 2:  Loss = 1.74783, Accuracy = 0.372\n",
      "Epoch  4, CIFAR-10 Batch 3:  Loss = 1.51743, Accuracy = 0.3898\n",
      "Epoch  4, CIFAR-10 Batch 4:  Loss = 1.52107, Accuracy = 0.4208\n",
      "Epoch  4, CIFAR-10 Batch 5:  Loss = 1.53851, Accuracy = 0.4102\n",
      "Epoch  5, CIFAR-10 Batch 1:  Loss = 1.61271, Accuracy = 0.437\n",
      "Epoch  5, CIFAR-10 Batch 2:  Loss = 1.63413, Accuracy = 0.4514\n",
      "Epoch  5, CIFAR-10 Batch 3:  Loss = 1.39821, Accuracy = 0.4292\n",
      "Epoch  5, CIFAR-10 Batch 4:  Loss = 1.28824, Accuracy = 0.4442\n",
      "Epoch  5, CIFAR-10 Batch 5:  Loss = 1.44348, Accuracy = 0.482\n",
      "Epoch  6, CIFAR-10 Batch 1:  Loss = 1.58769, Accuracy = 0.4624\n",
      "Epoch  6, CIFAR-10 Batch 2:  Loss = 1.37633, Accuracy = 0.4752\n",
      "Epoch  6, CIFAR-10 Batch 3:  Loss = 1.16116, Accuracy = 0.4994\n",
      "Epoch  6, CIFAR-10 Batch 4:  Loss = 1.2339, Accuracy = 0.496\n",
      "Epoch  6, CIFAR-10 Batch 5:  Loss = 1.29432, Accuracy = 0.5024\n",
      "Epoch  7, CIFAR-10 Batch 1:  Loss = 1.29934, Accuracy = 0.5172\n",
      "Epoch  7, CIFAR-10 Batch 2:  Loss = 1.19331, Accuracy = 0.5\n",
      "Epoch  7, CIFAR-10 Batch 3:  Loss = 1.06419, Accuracy = 0.5204\n",
      "Epoch  7, CIFAR-10 Batch 4:  Loss = 1.11659, Accuracy = 0.5248\n",
      "Epoch  7, CIFAR-10 Batch 5:  Loss = 1.17706, Accuracy = 0.5278\n",
      "Epoch  8, CIFAR-10 Batch 1:  Loss = 1.17401, Accuracy = 0.5626\n",
      "Epoch  8, CIFAR-10 Batch 2:  Loss = 0.933293, Accuracy = 0.5584\n",
      "Epoch  8, CIFAR-10 Batch 3:  Loss = 1.02869, Accuracy = 0.532\n",
      "Epoch  8, CIFAR-10 Batch 4:  Loss = 1.01873, Accuracy = 0.5484\n",
      "Epoch  8, CIFAR-10 Batch 5:  Loss = 1.08289, Accuracy = 0.5554\n",
      "Epoch  9, CIFAR-10 Batch 1:  Loss = 1.0749, Accuracy = 0.5682\n",
      "Epoch  9, CIFAR-10 Batch 2:  Loss = 0.992869, Accuracy = 0.54\n",
      "Epoch  9, CIFAR-10 Batch 3:  Loss = 0.897155, Accuracy = 0.557\n",
      "Epoch  9, CIFAR-10 Batch 4:  Loss = 0.959618, Accuracy = 0.5558\n",
      "Epoch  9, CIFAR-10 Batch 5:  Loss = 1.02817, Accuracy = 0.5712\n",
      "Epoch 10, CIFAR-10 Batch 1:  Loss = 1.02312, Accuracy = 0.5406\n",
      "Epoch 10, CIFAR-10 Batch 2:  Loss = 0.847894, Accuracy = 0.5882\n",
      "Epoch 10, CIFAR-10 Batch 3:  Loss = 0.808477, Accuracy = 0.5904\n",
      "Epoch 10, CIFAR-10 Batch 4:  Loss = 0.932273, Accuracy = 0.5616\n",
      "Epoch 10, CIFAR-10 Batch 5:  Loss = 0.984497, Accuracy = 0.5898\n",
      "Epoch 11, CIFAR-10 Batch 1:  Loss = 0.82343, Accuracy = 0.5826\n",
      "Epoch 11, CIFAR-10 Batch 2:  Loss = 0.80823, Accuracy = 0.5848\n",
      "Epoch 11, CIFAR-10 Batch 3:  Loss = 0.81075, Accuracy = 0.5922\n",
      "Epoch 11, CIFAR-10 Batch 4:  Loss = 0.825623, Accuracy = 0.5872\n",
      "Epoch 11, CIFAR-10 Batch 5:  Loss = 0.84488, Accuracy = 0.5928\n",
      "Epoch 12, CIFAR-10 Batch 1:  Loss = 0.705229, Accuracy = 0.6176\n",
      "Epoch 12, CIFAR-10 Batch 2:  Loss = 0.684252, Accuracy = 0.61\n",
      "Epoch 12, CIFAR-10 Batch 3:  Loss = 0.758162, Accuracy = 0.5994\n",
      "Epoch 12, CIFAR-10 Batch 4:  Loss = 0.672883, Accuracy = 0.5892\n",
      "Epoch 12, CIFAR-10 Batch 5:  Loss = 0.803309, Accuracy = 0.599\n",
      "Epoch 13, CIFAR-10 Batch 1:  Loss = 0.632226, Accuracy = 0.6186\n",
      "Epoch 13, CIFAR-10 Batch 2:  Loss = 0.587732, Accuracy = 0.6062\n",
      "Epoch 13, CIFAR-10 Batch 3:  Loss = 0.615785, Accuracy = 0.618\n",
      "Epoch 13, CIFAR-10 Batch 4:  Loss = 0.589142, Accuracy = 0.6196\n",
      "Epoch 13, CIFAR-10 Batch 5:  Loss = 0.61317, Accuracy = 0.6292\n",
      "Epoch 14, CIFAR-10 Batch 1:  Loss = 0.522759, Accuracy = 0.6376\n",
      "Epoch 14, CIFAR-10 Batch 2:  Loss = 0.595171, Accuracy = 0.627\n",
      "Epoch 14, CIFAR-10 Batch 3:  Loss = 0.502372, Accuracy = 0.6278\n",
      "Epoch 14, CIFAR-10 Batch 4:  Loss = 0.498026, Accuracy = 0.6372\n",
      "Epoch 14, CIFAR-10 Batch 5:  Loss = 0.54029, Accuracy = 0.6334\n",
      "Epoch 15, CIFAR-10 Batch 1:  Loss = 0.455784, Accuracy = 0.6298\n",
      "Epoch 15, CIFAR-10 Batch 2:  Loss = 0.473536, Accuracy = 0.6468\n",
      "Epoch 15, CIFAR-10 Batch 3:  Loss = 0.468897, Accuracy = 0.639\n",
      "Epoch 15, CIFAR-10 Batch 4:  Loss = 0.477491, Accuracy = 0.6348\n",
      "Epoch 15, CIFAR-10 Batch 5:  Loss = 0.44637, Accuracy = 0.6426\n",
      "Epoch 16, CIFAR-10 Batch 1:  Loss = 0.410633, Accuracy = 0.6198\n",
      "Epoch 16, CIFAR-10 Batch 2:  Loss = 0.339178, Accuracy = 0.6424\n",
      "Epoch 16, CIFAR-10 Batch 3:  Loss = 0.359257, Accuracy = 0.639\n",
      "Epoch 16, CIFAR-10 Batch 4:  Loss = 0.457799, Accuracy = 0.6344\n",
      "Epoch 16, CIFAR-10 Batch 5:  Loss = 0.38575, Accuracy = 0.6564\n",
      "Epoch 17, CIFAR-10 Batch 1:  Loss = 0.420046, Accuracy = 0.6596\n",
      "Epoch 17, CIFAR-10 Batch 2:  Loss = 0.261323, Accuracy = 0.6532\n",
      "Epoch 17, CIFAR-10 Batch 3:  Loss = 0.390786, Accuracy = 0.654\n",
      "Epoch 17, CIFAR-10 Batch 4:  Loss = 0.32405, Accuracy = 0.6556\n",
      "Epoch 17, CIFAR-10 Batch 5:  Loss = 0.350297, Accuracy = 0.654\n",
      "Epoch 18, CIFAR-10 Batch 1:  Loss = 0.388454, Accuracy = 0.6724\n",
      "Epoch 18, CIFAR-10 Batch 2:  Loss = 0.26305, Accuracy = 0.6662\n",
      "Epoch 18, CIFAR-10 Batch 3:  Loss = 0.347651, Accuracy = 0.6766\n",
      "Epoch 18, CIFAR-10 Batch 4:  Loss = 0.236655, Accuracy = 0.6546\n",
      "Epoch 18, CIFAR-10 Batch 5:  Loss = 0.296956, Accuracy = 0.6698\n",
      "Epoch 19, CIFAR-10 Batch 1:  Loss = 0.380105, Accuracy = 0.6558\n",
      "Epoch 19, CIFAR-10 Batch 2:  Loss = 0.213491, Accuracy = 0.6656\n",
      "Epoch 19, CIFAR-10 Batch 3:  Loss = 0.314922, Accuracy = 0.6646\n",
      "Epoch 19, CIFAR-10 Batch 4:  Loss = 0.251162, Accuracy = 0.669\n",
      "Epoch 19, CIFAR-10 Batch 5:  Loss = 0.233715, Accuracy = 0.6654\n",
      "Epoch 20, CIFAR-10 Batch 1:  Loss = 0.343972, Accuracy = 0.6644\n",
      "Epoch 20, CIFAR-10 Batch 2:  Loss = 0.1875, Accuracy = 0.6634\n",
      "Epoch 20, CIFAR-10 Batch 3:  Loss = 0.21358, Accuracy = 0.6546\n",
      "Epoch 20, CIFAR-10 Batch 4:  Loss = 0.224486, Accuracy = 0.6644\n",
      "Epoch 20, CIFAR-10 Batch 5:  Loss = 0.194606, Accuracy = 0.6674\n",
      "Epoch 21, CIFAR-10 Batch 1:  Loss = 0.26101, Accuracy = 0.6708\n",
      "Epoch 21, CIFAR-10 Batch 2:  Loss = 0.151466, Accuracy = 0.6642\n",
      "Epoch 21, CIFAR-10 Batch 3:  Loss = 0.226144, Accuracy = 0.6738\n",
      "Epoch 21, CIFAR-10 Batch 4:  Loss = 0.177998, Accuracy = 0.6674\n",
      "Epoch 21, CIFAR-10 Batch 5:  Loss = 0.132736, Accuracy = 0.6498\n",
      "Epoch 22, CIFAR-10 Batch 1:  Loss = 0.186401, Accuracy = 0.6728\n",
      "Epoch 22, CIFAR-10 Batch 2:  Loss = 0.0989525, Accuracy = 0.6708\n",
      "Epoch 22, CIFAR-10 Batch 3:  Loss = 0.158076, Accuracy = 0.6846\n",
      "Epoch 22, CIFAR-10 Batch 4:  Loss = 0.20144, Accuracy = 0.6522\n",
      "Epoch 22, CIFAR-10 Batch 5:  Loss = 0.143781, Accuracy = 0.664\n",
      "Epoch 23, CIFAR-10 Batch 1:  Loss = 0.159525, Accuracy = 0.6744\n",
      "Epoch 23, CIFAR-10 Batch 2:  Loss = 0.139967, Accuracy = 0.6632\n",
      "Epoch 23, CIFAR-10 Batch 3:  Loss = 0.159073, Accuracy = 0.681\n",
      "Epoch 23, CIFAR-10 Batch 4:  Loss = 0.140509, Accuracy = 0.6746\n",
      "Epoch 23, CIFAR-10 Batch 5:  Loss = 0.0743679, Accuracy = 0.6864\n",
      "Epoch 24, CIFAR-10 Batch 1:  Loss = 0.146674, Accuracy = 0.6924\n",
      "Epoch 24, CIFAR-10 Batch 2:  Loss = 0.112987, Accuracy = 0.6736\n",
      "Epoch 24, CIFAR-10 Batch 3:  Loss = 0.140045, Accuracy = 0.6874\n",
      "Epoch 24, CIFAR-10 Batch 4:  Loss = 0.134101, Accuracy = 0.679\n",
      "Epoch 24, CIFAR-10 Batch 5:  Loss = 0.0429719, Accuracy = 0.678\n",
      "Epoch 25, CIFAR-10 Batch 1:  Loss = 0.10027, Accuracy = 0.6984\n",
      "Epoch 25, CIFAR-10 Batch 2:  Loss = 0.128036, Accuracy = 0.6564\n",
      "Epoch 25, CIFAR-10 Batch 3:  Loss = 0.0988299, Accuracy = 0.6812\n",
      "Epoch 25, CIFAR-10 Batch 4:  Loss = 0.100974, Accuracy = 0.6754\n",
      "Epoch 25, CIFAR-10 Batch 5:  Loss = 0.0470921, Accuracy = 0.6762\n",
      "Epoch 26, CIFAR-10 Batch 1:  Loss = 0.0727576, Accuracy = 0.6996\n",
      "Epoch 26, CIFAR-10 Batch 2:  Loss = 0.0947693, Accuracy = 0.6882\n",
      "Epoch 26, CIFAR-10 Batch 3:  Loss = 0.127984, Accuracy = 0.6864\n",
      "Epoch 26, CIFAR-10 Batch 4:  Loss = 0.0923065, Accuracy = 0.692\n",
      "Epoch 26, CIFAR-10 Batch 5:  Loss = 0.0649381, Accuracy = 0.6852\n",
      "Epoch 27, CIFAR-10 Batch 1:  Loss = 0.0874623, Accuracy = 0.6984\n",
      "Epoch 27, CIFAR-10 Batch 2:  Loss = 0.0532344, Accuracy = 0.6914\n",
      "Epoch 27, CIFAR-10 Batch 3:  Loss = 0.0839029, Accuracy = 0.6886\n",
      "Epoch 27, CIFAR-10 Batch 4:  Loss = 0.0520791, Accuracy = 0.7016\n",
      "Epoch 27, CIFAR-10 Batch 5:  Loss = 0.0455036, Accuracy = 0.7018\n",
      "Epoch 28, CIFAR-10 Batch 1:  Loss = 0.063685, Accuracy = 0.6762\n",
      "Epoch 28, CIFAR-10 Batch 2:  Loss = 0.0396817, Accuracy = 0.6952\n",
      "Epoch 28, CIFAR-10 Batch 3:  Loss = 0.0798762, Accuracy = 0.6898\n",
      "Epoch 28, CIFAR-10 Batch 4:  Loss = 0.0854512, Accuracy = 0.6962\n",
      "Epoch 28, CIFAR-10 Batch 5:  Loss = 0.0232232, Accuracy = 0.6938\n",
      "Epoch 29, CIFAR-10 Batch 1:  Loss = 0.0515577, Accuracy = 0.6876\n",
      "Epoch 29, CIFAR-10 Batch 2:  Loss = 0.0581943, Accuracy = 0.6878\n",
      "Epoch 29, CIFAR-10 Batch 3:  Loss = 0.060705, Accuracy = 0.6804\n",
      "Epoch 29, CIFAR-10 Batch 4:  Loss = 0.075204, Accuracy = 0.6818\n",
      "Epoch 29, CIFAR-10 Batch 5:  Loss = 0.0278973, Accuracy = 0.7036\n",
      "Epoch 30, CIFAR-10 Batch 1:  Loss = 0.0416279, Accuracy = 0.6882\n",
      "Epoch 30, CIFAR-10 Batch 2:  Loss = 0.0292073, Accuracy = 0.6946\n",
      "Epoch 30, CIFAR-10 Batch 3:  Loss = 0.0567402, Accuracy = 0.6898\n",
      "Epoch 30, CIFAR-10 Batch 4:  Loss = 0.0739631, Accuracy = 0.6784\n",
      "Epoch 30, CIFAR-10 Batch 5:  Loss = 0.0184859, Accuracy = 0.6948\n",
      "Epoch 31, CIFAR-10 Batch 1:  Loss = 0.033613, Accuracy = 0.6984\n",
      "Epoch 31, CIFAR-10 Batch 2:  Loss = 0.0803697, Accuracy = 0.6658\n",
      "Epoch 31, CIFAR-10 Batch 3:  Loss = 0.0537314, Accuracy = 0.703\n",
      "Epoch 31, CIFAR-10 Batch 4:  Loss = 0.0280337, Accuracy = 0.6822\n",
      "Epoch 31, CIFAR-10 Batch 5:  Loss = 0.0187473, Accuracy = 0.684\n",
      "Epoch 32, CIFAR-10 Batch 1:  Loss = 0.0172194, Accuracy = 0.6912\n",
      "Epoch 32, CIFAR-10 Batch 2:  Loss = 0.052713, Accuracy = 0.6866\n",
      "Epoch 32, CIFAR-10 Batch 3:  Loss = 0.0703451, Accuracy = 0.6834\n",
      "Epoch 32, CIFAR-10 Batch 4:  Loss = 0.0518933, Accuracy = 0.69\n",
      "Epoch 32, CIFAR-10 Batch 5:  Loss = 0.0326273, Accuracy = 0.6808\n",
      "Epoch 33, CIFAR-10 Batch 1:  Loss = 0.0206216, Accuracy = 0.693\n",
      "Epoch 33, CIFAR-10 Batch 2:  Loss = 0.0418973, Accuracy = 0.7038\n",
      "Epoch 33, CIFAR-10 Batch 3:  Loss = 0.050861, Accuracy = 0.6976\n",
      "Epoch 33, CIFAR-10 Batch 4:  Loss = 0.251594, Accuracy = 0.699\n",
      "Epoch 33, CIFAR-10 Batch 5:  Loss = 0.0223291, Accuracy = 0.6748\n",
      "Epoch 34, CIFAR-10 Batch 1:  Loss = 0.0379272, Accuracy = 0.693\n",
      "Epoch 34, CIFAR-10 Batch 2:  Loss = 0.0170783, Accuracy = 0.6892\n",
      "Epoch 34, CIFAR-10 Batch 3:  Loss = 0.0229721, Accuracy = 0.6984\n",
      "Epoch 34, CIFAR-10 Batch 4:  Loss = 0.0720103, Accuracy = 0.6754\n",
      "Epoch 34, CIFAR-10 Batch 5:  Loss = 0.0147054, Accuracy = 0.682\n",
      "Epoch 35, CIFAR-10 Batch 1:  Loss = 0.013282, Accuracy = 0.6932\n",
      "Epoch 35, CIFAR-10 Batch 2:  Loss = 0.0356674, Accuracy = 0.6944\n",
      "Epoch 35, CIFAR-10 Batch 3:  Loss = 0.0403575, Accuracy = 0.7072\n",
      "Epoch 35, CIFAR-10 Batch 4:  Loss = 0.0238039, Accuracy = 0.675\n",
      "Epoch 35, CIFAR-10 Batch 5:  Loss = 0.00982894, Accuracy = 0.6936\n",
      "Epoch 36, CIFAR-10 Batch 1:  Loss = 0.0172423, Accuracy = 0.7046\n",
      "Epoch 36, CIFAR-10 Batch 2:  Loss = 0.00689325, Accuracy = 0.7066\n",
      "Epoch 36, CIFAR-10 Batch 3:  Loss = 0.0417826, Accuracy = 0.7002\n",
      "Epoch 36, CIFAR-10 Batch 4:  Loss = 0.0185872, Accuracy = 0.685\n",
      "Epoch 36, CIFAR-10 Batch 5:  Loss = 0.0106823, Accuracy = 0.7036\n",
      "Epoch 37, CIFAR-10 Batch 1:  Loss = 0.0158587, Accuracy = 0.7086\n",
      "Epoch 37, CIFAR-10 Batch 2:  Loss = 0.0119881, Accuracy = 0.6988\n",
      "Epoch 37, CIFAR-10 Batch 3:  Loss = 0.0331455, Accuracy = 0.7048\n",
      "Epoch 37, CIFAR-10 Batch 4:  Loss = 0.00722662, Accuracy = 0.6808\n",
      "Epoch 37, CIFAR-10 Batch 5:  Loss = 0.00884378, Accuracy = 0.699\n",
      "Epoch 38, CIFAR-10 Batch 1:  Loss = 0.0117544, Accuracy = 0.7126\n",
      "Epoch 38, CIFAR-10 Batch 2:  Loss = 0.0233869, Accuracy = 0.6968\n",
      "Epoch 38, CIFAR-10 Batch 3:  Loss = 0.0181847, Accuracy = 0.6972\n",
      "Epoch 38, CIFAR-10 Batch 4:  Loss = 0.0218693, Accuracy = 0.7012\n",
      "Epoch 38, CIFAR-10 Batch 5:  Loss = 0.02302, Accuracy = 0.6942\n",
      "Epoch 39, CIFAR-10 Batch 1:  Loss = 0.00780357, Accuracy = 0.6976\n",
      "Epoch 39, CIFAR-10 Batch 2:  Loss = 0.0457985, Accuracy = 0.6962\n",
      "Epoch 39, CIFAR-10 Batch 3:  Loss = 0.00950491, Accuracy = 0.6936\n",
      "Epoch 39, CIFAR-10 Batch 4:  Loss = 0.0158869, Accuracy = 0.7052\n",
      "Epoch 39, CIFAR-10 Batch 5:  Loss = 0.0149563, Accuracy = 0.6978\n",
      "Epoch 40, CIFAR-10 Batch 1:  Loss = 0.015336, Accuracy = 0.6982\n",
      "Epoch 40, CIFAR-10 Batch 2:  Loss = 0.00243322, Accuracy = 0.697\n",
      "Epoch 40, CIFAR-10 Batch 3:  Loss = 0.00950925, Accuracy = 0.704\n",
      "Epoch 40, CIFAR-10 Batch 4:  Loss = 0.0321576, Accuracy = 0.6876\n",
      "Epoch 40, CIFAR-10 Batch 5:  Loss = 0.0136982, Accuracy = 0.6964\n",
      "Epoch 41, CIFAR-10 Batch 1:  Loss = 0.00335156, Accuracy = 0.6974\n",
      "Epoch 41, CIFAR-10 Batch 2:  Loss = 0.0277389, Accuracy = 0.6992\n",
      "Epoch 41, CIFAR-10 Batch 3:  Loss = 0.0155189, Accuracy = 0.6984\n",
      "Epoch 41, CIFAR-10 Batch 4:  Loss = 0.0119256, Accuracy = 0.6906\n",
      "Epoch 41, CIFAR-10 Batch 5:  Loss = 0.00969937, Accuracy = 0.7002\n",
      "Epoch 42, CIFAR-10 Batch 1:  Loss = 0.00433739, Accuracy = 0.6942\n",
      "Epoch 42, CIFAR-10 Batch 2:  Loss = 0.0058214, Accuracy = 0.694\n",
      "Epoch 42, CIFAR-10 Batch 3:  Loss = 0.0129238, Accuracy = 0.7076\n",
      "Epoch 42, CIFAR-10 Batch 4:  Loss = 0.00870801, Accuracy = 0.6946\n",
      "Epoch 42, CIFAR-10 Batch 5:  Loss = 0.0166083, Accuracy = 0.7078\n",
      "Epoch 43, CIFAR-10 Batch 1:  Loss = 0.0074567, Accuracy = 0.7016\n",
      "Epoch 43, CIFAR-10 Batch 2:  Loss = 0.0122885, Accuracy = 0.689\n",
      "Epoch 43, CIFAR-10 Batch 3:  Loss = 0.0435661, Accuracy = 0.694\n",
      "Epoch 43, CIFAR-10 Batch 4:  Loss = 0.0136699, Accuracy = 0.6916\n",
      "Epoch 43, CIFAR-10 Batch 5:  Loss = 0.023229, Accuracy = 0.6952\n",
      "Epoch 44, CIFAR-10 Batch 1:  Loss = 0.00542807, Accuracy = 0.7024\n",
      "Epoch 44, CIFAR-10 Batch 2:  Loss = 0.0324706, Accuracy = 0.6996\n",
      "Epoch 44, CIFAR-10 Batch 3:  Loss = 0.0301374, Accuracy = 0.6986\n",
      "Epoch 44, CIFAR-10 Batch 4:  Loss = 0.01354, Accuracy = 0.6984\n",
      "Epoch 44, CIFAR-10 Batch 5:  Loss = 0.00895463, Accuracy = 0.7122\n",
      "Epoch 45, CIFAR-10 Batch 1:  Loss = 0.00613485, Accuracy = 0.6924\n",
      "Epoch 45, CIFAR-10 Batch 2:  Loss = 0.00653973, Accuracy = 0.6856\n",
      "Epoch 45, CIFAR-10 Batch 3:  Loss = 0.0340536, Accuracy = 0.7078\n",
      "Epoch 45, CIFAR-10 Batch 4:  Loss = 0.0530713, Accuracy = 0.699\n",
      "Epoch 45, CIFAR-10 Batch 5:  Loss = 0.0128202, Accuracy = 0.692\n",
      "Epoch 46, CIFAR-10 Batch 1:  Loss = 0.0131137, Accuracy = 0.7014\n",
      "Epoch 46, CIFAR-10 Batch 2:  Loss = 0.026769, Accuracy = 0.6896\n",
      "Epoch 46, CIFAR-10 Batch 3:  Loss = 0.0338121, Accuracy = 0.709\n",
      "Epoch 46, CIFAR-10 Batch 4:  Loss = 0.00873924, Accuracy = 0.7054\n",
      "Epoch 46, CIFAR-10 Batch 5:  Loss = 0.00297581, Accuracy = 0.7128\n",
      "Epoch 47, CIFAR-10 Batch 1:  Loss = 0.0110977, Accuracy = 0.7136\n",
      "Epoch 47, CIFAR-10 Batch 2:  Loss = 0.00841315, Accuracy = 0.7032\n",
      "Epoch 47, CIFAR-10 Batch 3:  Loss = 0.133629, Accuracy = 0.7062\n",
      "Epoch 47, CIFAR-10 Batch 4:  Loss = 0.0042402, Accuracy = 0.6988\n",
      "Epoch 47, CIFAR-10 Batch 5:  Loss = 0.00663697, Accuracy = 0.714\n",
      "Epoch 48, CIFAR-10 Batch 1:  Loss = 0.00661172, Accuracy = 0.6912\n",
      "Epoch 48, CIFAR-10 Batch 2:  Loss = 0.0113098, Accuracy = 0.6734\n",
      "Epoch 48, CIFAR-10 Batch 3:  Loss = 0.0137929, Accuracy = 0.7074\n",
      "Epoch 48, CIFAR-10 Batch 4:  Loss = 0.0198451, Accuracy = 0.6802\n",
      "Epoch 48, CIFAR-10 Batch 5:  Loss = 0.00429192, Accuracy = 0.6988\n",
      "Epoch 49, CIFAR-10 Batch 1:  Loss = 0.00850443, Accuracy = 0.7044\n",
      "Epoch 49, CIFAR-10 Batch 2:  Loss = 0.00992369, Accuracy = 0.6992\n",
      "Epoch 49, CIFAR-10 Batch 3:  Loss = 0.0200238, Accuracy = 0.6982\n",
      "Epoch 49, CIFAR-10 Batch 4:  Loss = 0.0226427, Accuracy = 0.6796\n",
      "Epoch 49, CIFAR-10 Batch 5:  Loss = 0.00145241, Accuracy = 0.6996\n",
      "Epoch 50, CIFAR-10 Batch 1:  Loss = 0.0204941, Accuracy = 0.6898\n",
      "Epoch 50, CIFAR-10 Batch 2:  Loss = 0.0109046, Accuracy = 0.686\n",
      "Epoch 50, CIFAR-10 Batch 3:  Loss = 0.0325037, Accuracy = 0.698\n",
      "Epoch 50, CIFAR-10 Batch 4:  Loss = 0.00442969, Accuracy = 0.7004\n",
      "Epoch 50, CIFAR-10 Batch 5:  Loss = 0.00193402, Accuracy = 0.711\n"
     ]
    }
   ],
   "source": [
    "\"\"\"\n",
    "DON'T MODIFY ANYTHING IN THIS CELL\n",
    "\"\"\"\n",
    "save_model_path = './image_classification'\n",
    "\n",
    "print('Training...')\n",
    "with tf.Session() as sess:\n",
    "    # Initializing the variables\n",
    "    sess.run(tf.global_variables_initializer())\n",
    "    \n",
    "    # Training cycle\n",
    "    for epoch in range(epochs):\n",
    "        # Loop over all batches\n",
    "        n_batches = 5\n",
    "        for batch_i in range(1, n_batches + 1):\n",
    "            for batch_features, batch_labels in helper.load_preprocess_training_batch(batch_i, batch_size):\n",
    "                train_neural_network(sess, optimizer, keep_probability, batch_features, batch_labels)\n",
    "            print('Epoch {:>2}, CIFAR-10 Batch {}:  '.format(epoch + 1, batch_i), end='')\n",
    "            print_stats(sess, batch_features, batch_labels, cost, accuracy)\n",
    "            \n",
    "    # Save Model\n",
    "    saver = tf.train.Saver()\n",
    "    save_path = saver.save(sess, save_model_path)"
   ]
  },
  {
   "cell_type": "markdown",
   "metadata": {},
   "source": [
    "# Checkpoint\n",
    "The model has been saved to disk.\n",
    "## Test Model\n",
    "Test your model against the test dataset.  This will be your final accuracy. You should have an accuracy greater than 50%. If you don't, keep tweaking the model architecture and parameters."
   ]
  },
  {
   "cell_type": "code",
   "execution_count": 373,
   "metadata": {
    "collapsed": false
   },
   "outputs": [
    {
     "name": "stdout",
     "output_type": "stream",
     "text": [
      "INFO:tensorflow:Restoring parameters from ./image_classification\n",
      "Testing Accuracy: 0.7072784810126582\n",
      "\n"
     ]
    },
    {
     "data": {
      "image/png": "[encoded data removed]",
      "text/plain": [
       "<matplotlib.figure.Figure at 0x112f82128>"
      ]
     },
     "metadata": {
      "image/png": {
       "height": 319,
       "width": 349
      }
     },
     "output_type": "display_data"
    }
   ],
   "source": [
    "\"\"\"\n",
    "DON'T MODIFY ANYTHING IN THIS CELL\n",
    "\"\"\"\n",
    "%matplotlib inline\n",
    "%config InlineBackend.figure_format = 'retina'\n",
    "\n",
    "import tensorflow as tf\n",
    "import pickle\n",
    "import helper\n",
    "import random\n",
    "\n",
    "# Set batch size if not already set\n",
    "try:\n",
    "    if batch_size:\n",
    "        pass\n",
    "except NameError:\n",
    "    batch_size = 64\n",
    "\n",
    "save_model_path = './image_classification'\n",
    "n_samples = 4\n",
    "top_n_predictions = 3\n",
    "\n",
    "def test_model():\n",
    "    \"\"\"\n",
    "    Test the saved model against the test dataset\n",
    "    \"\"\"\n",
    "\n",
    "    test_features, test_labels = pickle.load(open('preprocess_training.p', mode='rb'))\n",
    "    loaded_graph = tf.Graph()\n",
    "\n",
    "    with tf.Session(graph=loaded_graph) as sess:\n",
    "        # Load model\n",
    "        loader = tf.train.import_meta_graph(save_model_path + '.meta')\n",
    "        loader.restore(sess, save_model_path)\n",
    "\n",
    "        # Get Tensors from loaded model\n",
    "        loaded_x = loaded_graph.get_tensor_by_name('x:0')\n",
    "        loaded_y = loaded_graph.get_tensor_by_name('y:0')\n",
    "        loaded_keep_prob = loaded_graph.get_tensor_by_name('keep_prob:0')\n",
    "        loaded_logits = loaded_graph.get_tensor_by_name('logits:0')\n",
    "        loaded_acc = loaded_graph.get_tensor_by_name('accuracy:0')\n",
    "        \n",
    "        # Get accuracy in batches for memory limitations\n",
    "        test_batch_acc_total = 0\n",
    "        test_batch_count = 0\n",
    "        \n",
    "        for train_feature_batch, train_label_batch in helper.batch_features_labels(test_features, test_labels, batch_size):\n",
    "            test_batch_acc_total += sess.run(\n",
    "                loaded_acc,\n",
    "                feed_dict={loaded_x: train_feature_batch, loaded_y: train_label_batch, loaded_keep_prob: 1.0})\n",
    "            test_batch_count += 1\n",
    "\n",
    "        print('Testing Accuracy: {}\\n'.format(test_batch_acc_total/test_batch_count))\n",
    "\n",
    "        # Print Random Samples\n",
    "        random_test_features, random_test_labels = tuple(zip(*random.sample(list(zip(test_features, test_labels)), n_samples)))\n",
    "        random_test_predictions = sess.run(\n",
    "            tf.nn.top_k(tf.nn.softmax(loaded_logits), top_n_predictions),\n",
    "            feed_dict={loaded_x: random_test_features, loaded_y: random_test_labels, loaded_keep_prob: 1.0})\n",
    "        helper.display_image_predictions(random_test_features, random_test_labels, random_test_predictions)\n",
    "\n",
    "\n",
    "test_model()"
   ]
  },
  {
   "cell_type": "markdown",
   "metadata": {},
   "source": [
    "## Why 50-80% Accuracy?\n",
    "You might be wondering why you can't get an accuracy any higher. First things first, 50% isn't bad for a simple CNN.  Pure guessing would get you 10% accuracy. That's because there are many more techniques that can be applied to your model and we recemmond that once you are done with this project, you explore!\n",
    "\n",
    "## Submitting This Project\n",
    "When submitting this project, make sure to run all the cells before saving the notebook.  Save the notebook file as \"image_classification.ipynb\" and save it as a HTML file under \"File\" -> \"Download as\".  Include the \"helper.py\" and \"problem_unittests.py\" files in your submission."
   ]
  },
  {
   "cell_type": "code",
   "execution_count": null,
   "metadata": {
    "collapsed": true
   },
   "outputs": [],
   "source": []
  }
 ],
 "metadata": {
  "kernelspec": {
   "display_name": "Python 3",
   "language": "python",
   "name": "python3"
  },
  "language_info": {
   "codemirror_mode": {
    "name": "ipython",
    "version": 3
   },
   "file_extension": ".py",
   "mimetype": "text/x-python",
   "name": "python",
   "nbconvert_exporter": "python",
   "pygments_lexer": "ipython3",
   "version": "3.5.3"
  }
 },
 "nbformat": 4,
 "nbformat_minor": 0
}
